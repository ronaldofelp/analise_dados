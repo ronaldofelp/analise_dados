{
  "cells": [
    {
      "cell_type": "markdown",
      "metadata": {
        "id": "view-in-github",
        "colab_type": "text"
      },
      "source": [
        "<a href=\"https://colab.research.google.com/github/ronaldofelp/an-lise_dados/blob/main/Untitled2.ipynb\" target=\"_parent\"><img src=\"https://colab.research.google.com/assets/colab-badge.svg\" alt=\"Open In Colab\"/></a>"
      ]
    },
    {
      "cell_type": "code",
      "execution_count": null,
      "metadata": {
        "id": "Ms7u0fJputBd"
      },
      "outputs": [],
      "source": [
        "import pandas as pd \n",
        "#import matplotlib as plt\n",
        "import matplotlib.pyplot as plt"
      ]
    },
    {
      "cell_type": "code",
      "execution_count": null,
      "metadata": {
        "id": "_ZTY5iNV7sHK"
      },
      "outputs": [],
      "source": [
        ""
      ]
    },
    {
      "cell_type": "code",
      "execution_count": null,
      "metadata": {
        "id": "ldcVzHkw797Z"
      },
      "outputs": [],
      "source": [
        ""
      ]
    },
    {
      "cell_type": "code",
      "execution_count": null,
      "metadata": {
        "id": "RT25gplduXdY"
      },
      "outputs": [],
      "source": [
        "df = pd.read_csv('/content/Startups in 2021 end.csv')"
      ]
    },
    {
      "cell_type": "code",
      "execution_count": null,
      "metadata": {
        "colab": {
          "base_uri": "https://localhost:8080/",
          "height": 904
        },
        "id": "5nY1QgCzu7eF",
        "outputId": "201170c9-94b1-479c-cc18-93182b129e8d"
      },
      "outputs": [
        {
          "data": {
            "text/html": [
              "\n",
              "  <div id=\"df-26402717-3f13-4857-9b3f-292641760745\">\n",
              "    <div class=\"colab-df-container\">\n",
              "      <div>\n",
              "<style scoped>\n",
              "    .dataframe tbody tr th:only-of-type {\n",
              "        vertical-align: middle;\n",
              "    }\n",
              "\n",
              "    .dataframe tbody tr th {\n",
              "        vertical-align: top;\n",
              "    }\n",
              "\n",
              "    .dataframe thead th {\n",
              "        text-align: right;\n",
              "    }\n",
              "</style>\n",
              "<table border=\"1\" class=\"dataframe\">\n",
              "  <thead>\n",
              "    <tr style=\"text-align: right;\">\n",
              "      <th></th>\n",
              "      <th>Unnamed: 0</th>\n",
              "      <th>Company</th>\n",
              "      <th>Valuation ($B)</th>\n",
              "      <th>Date Joined</th>\n",
              "      <th>Country</th>\n",
              "      <th>City</th>\n",
              "      <th>Industry</th>\n",
              "      <th>Select Investors</th>\n",
              "    </tr>\n",
              "  </thead>\n",
              "  <tbody>\n",
              "    <tr>\n",
              "      <th>0</th>\n",
              "      <td>0</td>\n",
              "      <td>Bytedance</td>\n",
              "      <td>$140</td>\n",
              "      <td>4/7/2017</td>\n",
              "      <td>China</td>\n",
              "      <td>Beijing</td>\n",
              "      <td>Artificial intelligence</td>\n",
              "      <td>Sequoia Capital China, SIG Asia Investments, S...</td>\n",
              "    </tr>\n",
              "    <tr>\n",
              "      <th>1</th>\n",
              "      <td>1</td>\n",
              "      <td>SpaceX</td>\n",
              "      <td>$100.3</td>\n",
              "      <td>12/1/2012</td>\n",
              "      <td>United States</td>\n",
              "      <td>Hawthorne</td>\n",
              "      <td>Other</td>\n",
              "      <td>Founders Fund, Draper Fisher Jurvetson, Rothen...</td>\n",
              "    </tr>\n",
              "    <tr>\n",
              "      <th>2</th>\n",
              "      <td>2</td>\n",
              "      <td>Stripe</td>\n",
              "      <td>$95</td>\n",
              "      <td>1/23/2014</td>\n",
              "      <td>United States</td>\n",
              "      <td>San Francisco</td>\n",
              "      <td>Fintech</td>\n",
              "      <td>Khosla Ventures, LowercaseCapital, capitalG</td>\n",
              "    </tr>\n",
              "    <tr>\n",
              "      <th>3</th>\n",
              "      <td>3</td>\n",
              "      <td>Klarna</td>\n",
              "      <td>$45.6</td>\n",
              "      <td>12/12/2011</td>\n",
              "      <td>Sweden</td>\n",
              "      <td>Stockholm</td>\n",
              "      <td>Fintech</td>\n",
              "      <td>Institutional Venture Partners, Sequoia Capita...</td>\n",
              "    </tr>\n",
              "    <tr>\n",
              "      <th>4</th>\n",
              "      <td>4</td>\n",
              "      <td>Canva</td>\n",
              "      <td>$40</td>\n",
              "      <td>1/8/2018</td>\n",
              "      <td>Australia</td>\n",
              "      <td>Surry Hills</td>\n",
              "      <td>Internet software &amp; services</td>\n",
              "      <td>Sequoia Capital China, Blackbird Ventures, Mat...</td>\n",
              "    </tr>\n",
              "    <tr>\n",
              "      <th>...</th>\n",
              "      <td>...</td>\n",
              "      <td>...</td>\n",
              "      <td>...</td>\n",
              "      <td>...</td>\n",
              "      <td>...</td>\n",
              "      <td>...</td>\n",
              "      <td>...</td>\n",
              "      <td>...</td>\n",
              "    </tr>\n",
              "    <tr>\n",
              "      <th>931</th>\n",
              "      <td>931</td>\n",
              "      <td>YipitData</td>\n",
              "      <td>$1</td>\n",
              "      <td>12/6/2021</td>\n",
              "      <td>United States</td>\n",
              "      <td>New York</td>\n",
              "      <td>Internet software &amp; services</td>\n",
              "      <td>RRE Ventures+, Highland Capital Partners, The ...</td>\n",
              "    </tr>\n",
              "    <tr>\n",
              "      <th>932</th>\n",
              "      <td>932</td>\n",
              "      <td>Anyscale</td>\n",
              "      <td>$1</td>\n",
              "      <td>12/7/2021</td>\n",
              "      <td>United States</td>\n",
              "      <td>Berkeley</td>\n",
              "      <td>Artificial Intelligence</td>\n",
              "      <td>Andreessen Horowitz, Intel Capital, Foundation...</td>\n",
              "    </tr>\n",
              "    <tr>\n",
              "      <th>933</th>\n",
              "      <td>933</td>\n",
              "      <td>Iodine Software</td>\n",
              "      <td>$1</td>\n",
              "      <td>12/1/2021</td>\n",
              "      <td>United States</td>\n",
              "      <td>Austin</td>\n",
              "      <td>Data management &amp; analytics</td>\n",
              "      <td>Advent International, Bain Capital Ventures, S...</td>\n",
              "    </tr>\n",
              "    <tr>\n",
              "      <th>934</th>\n",
              "      <td>934</td>\n",
              "      <td>ReliaQuest</td>\n",
              "      <td>$1</td>\n",
              "      <td>12/1/2021</td>\n",
              "      <td>United States</td>\n",
              "      <td>Tampa</td>\n",
              "      <td>Cybersecurity</td>\n",
              "      <td>KKR, FTV Capital, Ten Eleven Ventures</td>\n",
              "    </tr>\n",
              "    <tr>\n",
              "      <th>935</th>\n",
              "      <td>935</td>\n",
              "      <td>Pet Circle</td>\n",
              "      <td>$1</td>\n",
              "      <td>12/7/2021</td>\n",
              "      <td>Australia</td>\n",
              "      <td>Alexandria</td>\n",
              "      <td>E-commerce &amp; direct-to-consumer</td>\n",
              "      <td>Prysm Capital, Baillie Gifford &amp; Co., TDM Grow...</td>\n",
              "    </tr>\n",
              "  </tbody>\n",
              "</table>\n",
              "<p>936 rows × 8 columns</p>\n",
              "</div>\n",
              "      <button class=\"colab-df-convert\" onclick=\"convertToInteractive('df-26402717-3f13-4857-9b3f-292641760745')\"\n",
              "              title=\"Convert this dataframe to an interactive table.\"\n",
              "              style=\"display:none;\">\n",
              "        \n",
              "  <svg xmlns=\"http://www.w3.org/2000/svg\" height=\"24px\"viewBox=\"0 0 24 24\"\n",
              "       width=\"24px\">\n",
              "    <path d=\"M0 0h24v24H0V0z\" fill=\"none\"/>\n",
              "    <path d=\"M18.56 5.44l.94 2.06.94-2.06 2.06-.94-2.06-.94-.94-2.06-.94 2.06-2.06.94zm-11 1L8.5 8.5l.94-2.06 2.06-.94-2.06-.94L8.5 2.5l-.94 2.06-2.06.94zm10 10l.94 2.06.94-2.06 2.06-.94-2.06-.94-.94-2.06-.94 2.06-2.06.94z\"/><path d=\"M17.41 7.96l-1.37-1.37c-.4-.4-.92-.59-1.43-.59-.52 0-1.04.2-1.43.59L10.3 9.45l-7.72 7.72c-.78.78-.78 2.05 0 2.83L4 21.41c.39.39.9.59 1.41.59.51 0 1.02-.2 1.41-.59l7.78-7.78 2.81-2.81c.8-.78.8-2.07 0-2.86zM5.41 20L4 18.59l7.72-7.72 1.47 1.35L5.41 20z\"/>\n",
              "  </svg>\n",
              "      </button>\n",
              "      \n",
              "  <style>\n",
              "    .colab-df-container {\n",
              "      display:flex;\n",
              "      flex-wrap:wrap;\n",
              "      gap: 12px;\n",
              "    }\n",
              "\n",
              "    .colab-df-convert {\n",
              "      background-color: #E8F0FE;\n",
              "      border: none;\n",
              "      border-radius: 50%;\n",
              "      cursor: pointer;\n",
              "      display: none;\n",
              "      fill: #1967D2;\n",
              "      height: 32px;\n",
              "      padding: 0 0 0 0;\n",
              "      width: 32px;\n",
              "    }\n",
              "\n",
              "    .colab-df-convert:hover {\n",
              "      background-color: #E2EBFA;\n",
              "      box-shadow: 0px 1px 2px rgba(60, 64, 67, 0.3), 0px 1px 3px 1px rgba(60, 64, 67, 0.15);\n",
              "      fill: #174EA6;\n",
              "    }\n",
              "\n",
              "    [theme=dark] .colab-df-convert {\n",
              "      background-color: #3B4455;\n",
              "      fill: #D2E3FC;\n",
              "    }\n",
              "\n",
              "    [theme=dark] .colab-df-convert:hover {\n",
              "      background-color: #434B5C;\n",
              "      box-shadow: 0px 1px 3px 1px rgba(0, 0, 0, 0.15);\n",
              "      filter: drop-shadow(0px 1px 2px rgba(0, 0, 0, 0.3));\n",
              "      fill: #FFFFFF;\n",
              "    }\n",
              "  </style>\n",
              "\n",
              "      <script>\n",
              "        const buttonEl =\n",
              "          document.querySelector('#df-26402717-3f13-4857-9b3f-292641760745 button.colab-df-convert');\n",
              "        buttonEl.style.display =\n",
              "          google.colab.kernel.accessAllowed ? 'block' : 'none';\n",
              "\n",
              "        async function convertToInteractive(key) {\n",
              "          const element = document.querySelector('#df-26402717-3f13-4857-9b3f-292641760745');\n",
              "          const dataTable =\n",
              "            await google.colab.kernel.invokeFunction('convertToInteractive',\n",
              "                                                     [key], {});\n",
              "          if (!dataTable) return;\n",
              "\n",
              "          const docLinkHtml = 'Like what you see? Visit the ' +\n",
              "            '<a target=\"_blank\" href=https://colab.research.google.com/notebooks/data_table.ipynb>data table notebook</a>'\n",
              "            + ' to learn more about interactive tables.';\n",
              "          element.innerHTML = '';\n",
              "          dataTable['output_type'] = 'display_data';\n",
              "          await google.colab.output.renderOutput(dataTable, element);\n",
              "          const docLink = document.createElement('div');\n",
              "          docLink.innerHTML = docLinkHtml;\n",
              "          element.appendChild(docLink);\n",
              "        }\n",
              "      </script>\n",
              "    </div>\n",
              "  </div>\n",
              "  "
            ],
            "text/plain": [
              "     Unnamed: 0          Company Valuation ($B) Date Joined        Country  \\\n",
              "0             0        Bytedance           $140    4/7/2017          China   \n",
              "1             1           SpaceX         $100.3   12/1/2012  United States   \n",
              "2             2           Stripe            $95   1/23/2014  United States   \n",
              "3             3           Klarna          $45.6  12/12/2011         Sweden   \n",
              "4             4            Canva            $40    1/8/2018      Australia   \n",
              "..          ...              ...            ...         ...            ...   \n",
              "931         931        YipitData             $1   12/6/2021  United States   \n",
              "932         932         Anyscale             $1   12/7/2021  United States   \n",
              "933         933  Iodine Software             $1   12/1/2021  United States   \n",
              "934         934       ReliaQuest             $1   12/1/2021  United States   \n",
              "935         935       Pet Circle             $1   12/7/2021      Australia   \n",
              "\n",
              "              City                         Industry  \\\n",
              "0          Beijing          Artificial intelligence   \n",
              "1        Hawthorne                            Other   \n",
              "2    San Francisco                          Fintech   \n",
              "3        Stockholm                          Fintech   \n",
              "4      Surry Hills     Internet software & services   \n",
              "..             ...                              ...   \n",
              "931       New York     Internet software & services   \n",
              "932       Berkeley          Artificial Intelligence   \n",
              "933         Austin      Data management & analytics   \n",
              "934          Tampa                    Cybersecurity   \n",
              "935     Alexandria  E-commerce & direct-to-consumer   \n",
              "\n",
              "                                      Select Investors  \n",
              "0    Sequoia Capital China, SIG Asia Investments, S...  \n",
              "1    Founders Fund, Draper Fisher Jurvetson, Rothen...  \n",
              "2          Khosla Ventures, LowercaseCapital, capitalG  \n",
              "3    Institutional Venture Partners, Sequoia Capita...  \n",
              "4    Sequoia Capital China, Blackbird Ventures, Mat...  \n",
              "..                                                 ...  \n",
              "931  RRE Ventures+, Highland Capital Partners, The ...  \n",
              "932  Andreessen Horowitz, Intel Capital, Foundation...  \n",
              "933  Advent International, Bain Capital Ventures, S...  \n",
              "934              KKR, FTV Capital, Ten Eleven Ventures  \n",
              "935  Prysm Capital, Baillie Gifford & Co., TDM Grow...  \n",
              "\n",
              "[936 rows x 8 columns]"
            ]
          },
          "execution_count": 65,
          "metadata": {},
          "output_type": "execute_result"
        }
      ],
      "source": [
        "df"
      ]
    },
    {
      "cell_type": "code",
      "execution_count": null,
      "metadata": {
        "colab": {
          "base_uri": "https://localhost:8080/"
        },
        "id": "uULIb7pQvJPy",
        "outputId": "17f9177c-77a3-4fcd-f4cb-dd99aca085c8"
      },
      "outputs": [
        {
          "output_type": "execute_result",
          "data": {
            "text/plain": [
              "(936, 8)"
            ]
          },
          "metadata": {},
          "execution_count": 5
        }
      ],
      "source": [
        "df.shape"
      ]
    },
    {
      "cell_type": "code",
      "execution_count": null,
      "metadata": {
        "id": "2r0f3NGD1McM"
      },
      "outputs": [],
      "source": [
        ""
      ]
    },
    {
      "cell_type": "code",
      "execution_count": null,
      "metadata": {
        "colab": {
          "base_uri": "https://localhost:8080/"
        },
        "id": "YN4_e7WsvOCr",
        "outputId": "facae924-b1c8-4bbe-956a-dca3a622672d"
      },
      "outputs": [
        {
          "output_type": "stream",
          "name": "stdout",
          "text": [
            "<class 'pandas.core.frame.DataFrame'>\n",
            "RangeIndex: 936 entries, 0 to 935\n",
            "Data columns (total 8 columns):\n",
            " #   Column            Non-Null Count  Dtype \n",
            "---  ------            --------------  ----- \n",
            " 0   Unnamed: 0        936 non-null    int64 \n",
            " 1   Company           936 non-null    object\n",
            " 2   Valuation ($B)    936 non-null    object\n",
            " 3   Date Joined       936 non-null    object\n",
            " 4   Country           936 non-null    object\n",
            " 5   City              921 non-null    object\n",
            " 6   Industry          936 non-null    object\n",
            " 7   Select Investors  935 non-null    object\n",
            "dtypes: int64(1), object(7)\n",
            "memory usage: 58.6+ KB\n"
          ]
        }
      ],
      "source": [
        "df.info()"
      ]
    },
    {
      "cell_type": "code",
      "source": [
        "df= df.drop(columns=['Unnamed: 0'])"
      ],
      "metadata": {
        "id": "SgDscJazxkMu"
      },
      "execution_count": null,
      "outputs": []
    },
    {
      "cell_type": "code",
      "execution_count": null,
      "metadata": {
        "colab": {
          "base_uri": "https://localhost:8080/"
        },
        "id": "lVkGqzTEvWY2",
        "outputId": "c9b7fa5a-31df-4629-ef6f-efaaa575dcff"
      },
      "outputs": [
        {
          "output_type": "execute_result",
          "data": {
            "text/plain": [
              "Company              0\n",
              "Valuation ($B)       0\n",
              "Date Joined          0\n",
              "Country              0\n",
              "City                15\n",
              "Industry             0\n",
              "Select Investors     1\n",
              "dtype: int64"
            ]
          },
          "metadata": {},
          "execution_count": 8
        }
      ],
      "source": [
        "df.isnull().sum()"
      ]
    },
    {
      "cell_type": "code",
      "execution_count": null,
      "metadata": {
        "colab": {
          "base_uri": "https://localhost:8080/"
        },
        "id": "y9XrHndVv3wi",
        "outputId": "e1bb8395-a06e-4601-e4a6-dcd9336d1ce9"
      },
      "outputs": [
        {
          "output_type": "execute_result",
          "data": {
            "text/plain": [
              "United States           477\n",
              "China                   169\n",
              "India                    51\n",
              "United Kingdom           37\n",
              "Germany                  23\n",
              "Israel                   21\n",
              "France                   19\n",
              "Canada                   15\n",
              "Brazil                   15\n",
              "South Korea              11\n",
              "Singapore                11\n",
              "Hong Kong                 7\n",
              "Japan                     6\n",
              "Australia                 6\n",
              "Mexico                    5\n",
              "Netherlands               5\n",
              "Indonesia                 4\n",
              "Spain                     4\n",
              "Sweden                    4\n",
              "Switzerland               4\n",
              "Ireland                   3\n",
              "United Arab Emirates      3\n",
              "Norway                    3\n",
              "Belgium                   2\n",
              "Thailand                  2\n",
              "Denmark                   2\n",
              "Philippines               2\n",
              "Finland                   2\n",
              "Colombia                  2\n",
              "South Africa              2\n",
              "Turkey                    2\n",
              "Austria                   2\n",
              "Chile                     1\n",
              "Malaysia                  1\n",
              "Czech Republic            1\n",
              "United States,            1\n",
              "Croatia                   1\n",
              "Nigeria                   1\n",
              "Bermuda                   1\n",
              "Senegal                   1\n",
              "Santa Clara               1\n",
              "Luxembourg                1\n",
              "Argentina                 1\n",
              "Vietnam                   1\n",
              "Estonia                   1\n",
              "Lithuania                 1\n",
              "Indonesia,                1\n",
              "Name: Country, dtype: int64"
            ]
          },
          "metadata": {},
          "execution_count": 17
        }
      ],
      "source": [
        "df['Country'].value_counts()#.plot.bar();"
      ]
    },
    {
      "cell_type": "code",
      "source": [
        "Data_geral = df[\"Date Joined\"].str[-4:]\n",
        "Data_geral = pd.to_numeric(Data_geral)\n",
        "Data_geral"
      ],
      "metadata": {
        "colab": {
          "base_uri": "https://localhost:8080/"
        },
        "id": "mCukdmJ02JFe",
        "outputId": "b05c3bb0-6bbf-4cd3-d69f-e7990a74cb75"
      },
      "execution_count": null,
      "outputs": [
        {
          "output_type": "execute_result",
          "data": {
            "text/plain": [
              "0      2017\n",
              "1      2012\n",
              "2      2014\n",
              "3      2011\n",
              "4      2018\n",
              "       ... \n",
              "931    2021\n",
              "932    2021\n",
              "933    2021\n",
              "934    2021\n",
              "935    2021\n",
              "Name: Date Joined, Length: 936, dtype: int64"
            ]
          },
          "metadata": {},
          "execution_count": 18
        }
      ]
    },
    {
      "cell_type": "code",
      "source": [
        "Data_geral.value_counts().plot.bar();"
      ],
      "metadata": {
        "colab": {
          "base_uri": "https://localhost:8080/",
          "height": 246
        },
        "id": "GRMGgY4Y2J_R",
        "outputId": "59b0e4ef-ff12-4d18-8a21-58e6f6cc566b"
      },
      "execution_count": null,
      "outputs": [
        {
          "output_type": "display_data",
          "data": {
            "text/plain": [
              "<Figure size 432x288 with 1 Axes>"
            ],
            "image/png": "[encoded data removed]"
          },
          "metadata": {
            "needs_background": "light"
          }
        }
      ]
    },
    {
      "cell_type": "code",
      "source": [
        "ano_2021 = df[df['Date Joined'].str.contains('2021')]\n",
        "anodf =ano_2021['Industry']\n",
        "pd.DataFrame(anodf)#.value_counts()"
      ],
      "metadata": {
        "id": "79DyCRJd2KPo",
        "colab": {
          "base_uri": "https://localhost:8080/",
          "height": 424
        },
        "outputId": "572e7e4f-f183-43b0-f22d-4e62b1e8aa25"
      },
      "execution_count": null,
      "outputs": [
        {
          "output_type": "execute_result",
          "data": {
            "text/plain": [
              "                                Industry\n",
              "11                               Fintech\n",
              "14   Supply chain, logistics, & delivery\n",
              "30          Internet software & services\n",
              "31                 Auto & transportation\n",
              "34                     Consumer & retail\n",
              "..                                   ...\n",
              "931         Internet software & services\n",
              "932              Artificial Intelligence\n",
              "933          Data management & analytics\n",
              "934                        Cybersecurity\n",
              "935      E-commerce & direct-to-consumer\n",
              "\n",
              "[480 rows x 1 columns]"
            ],
            "text/html": [
              "\n",
              "  <div id=\"df-c13eec3b-66e7-4250-addd-edac4c6d67af\">\n",
              "    <div class=\"colab-df-container\">\n",
              "      <div>\n",
              "<style scoped>\n",
              "    .dataframe tbody tr th:only-of-type {\n",
              "        vertical-align: middle;\n",
              "    }\n",
              "\n",
              "    .dataframe tbody tr th {\n",
              "        vertical-align: top;\n",
              "    }\n",
              "\n",
              "    .dataframe thead th {\n",
              "        text-align: right;\n",
              "    }\n",
              "</style>\n",
              "<table border=\"1\" class=\"dataframe\">\n",
              "  <thead>\n",
              "    <tr style=\"text-align: right;\">\n",
              "      <th></th>\n",
              "      <th>Industry</th>\n",
              "    </tr>\n",
              "  </thead>\n",
              "  <tbody>\n",
              "    <tr>\n",
              "      <th>11</th>\n",
              "      <td>Fintech</td>\n",
              "    </tr>\n",
              "    <tr>\n",
              "      <th>14</th>\n",
              "      <td>Supply chain, logistics, &amp; delivery</td>\n",
              "    </tr>\n",
              "    <tr>\n",
              "      <th>30</th>\n",
              "      <td>Internet software &amp; services</td>\n",
              "    </tr>\n",
              "    <tr>\n",
              "      <th>31</th>\n",
              "      <td>Auto &amp; transportation</td>\n",
              "    </tr>\n",
              "    <tr>\n",
              "      <th>34</th>\n",
              "      <td>Consumer &amp; retail</td>\n",
              "    </tr>\n",
              "    <tr>\n",
              "      <th>...</th>\n",
              "      <td>...</td>\n",
              "    </tr>\n",
              "    <tr>\n",
              "      <th>931</th>\n",
              "      <td>Internet software &amp; services</td>\n",
              "    </tr>\n",
              "    <tr>\n",
              "      <th>932</th>\n",
              "      <td>Artificial Intelligence</td>\n",
              "    </tr>\n",
              "    <tr>\n",
              "      <th>933</th>\n",
              "      <td>Data management &amp; analytics</td>\n",
              "    </tr>\n",
              "    <tr>\n",
              "      <th>934</th>\n",
              "      <td>Cybersecurity</td>\n",
              "    </tr>\n",
              "    <tr>\n",
              "      <th>935</th>\n",
              "      <td>E-commerce &amp; direct-to-consumer</td>\n",
              "    </tr>\n",
              "  </tbody>\n",
              "</table>\n",
              "<p>480 rows × 1 columns</p>\n",
              "</div>\n",
              "      <button class=\"colab-df-convert\" onclick=\"convertToInteractive('df-c13eec3b-66e7-4250-addd-edac4c6d67af')\"\n",
              "              title=\"Convert this dataframe to an interactive table.\"\n",
              "              style=\"display:none;\">\n",
              "        \n",
              "  <svg xmlns=\"http://www.w3.org/2000/svg\" height=\"24px\"viewBox=\"0 0 24 24\"\n",
              "       width=\"24px\">\n",
              "    <path d=\"M0 0h24v24H0V0z\" fill=\"none\"/>\n",
              "    <path d=\"M18.56 5.44l.94 2.06.94-2.06 2.06-.94-2.06-.94-.94-2.06-.94 2.06-2.06.94zm-11 1L8.5 8.5l.94-2.06 2.06-.94-2.06-.94L8.5 2.5l-.94 2.06-2.06.94zm10 10l.94 2.06.94-2.06 2.06-.94-2.06-.94-.94-2.06-.94 2.06-2.06.94z\"/><path d=\"M17.41 7.96l-1.37-1.37c-.4-.4-.92-.59-1.43-.59-.52 0-1.04.2-1.43.59L10.3 9.45l-7.72 7.72c-.78.78-.78 2.05 0 2.83L4 21.41c.39.39.9.59 1.41.59.51 0 1.02-.2 1.41-.59l7.78-7.78 2.81-2.81c.8-.78.8-2.07 0-2.86zM5.41 20L4 18.59l7.72-7.72 1.47 1.35L5.41 20z\"/>\n",
              "  </svg>\n",
              "      </button>\n",
              "      \n",
              "  <style>\n",
              "    .colab-df-container {\n",
              "      display:flex;\n",
              "      flex-wrap:wrap;\n",
              "      gap: 12px;\n",
              "    }\n",
              "\n",
              "    .colab-df-convert {\n",
              "      background-color: #E8F0FE;\n",
              "      border: none;\n",
              "      border-radius: 50%;\n",
              "      cursor: pointer;\n",
              "      display: none;\n",
              "      fill: #1967D2;\n",
              "      height: 32px;\n",
              "      padding: 0 0 0 0;\n",
              "      width: 32px;\n",
              "    }\n",
              "\n",
              "    .colab-df-convert:hover {\n",
              "      background-color: #E2EBFA;\n",
              "      box-shadow: 0px 1px 2px rgba(60, 64, 67, 0.3), 0px 1px 3px 1px rgba(60, 64, 67, 0.15);\n",
              "      fill: #174EA6;\n",
              "    }\n",
              "\n",
              "    [theme=dark] .colab-df-convert {\n",
              "      background-color: #3B4455;\n",
              "      fill: #D2E3FC;\n",
              "    }\n",
              "\n",
              "    [theme=dark] .colab-df-convert:hover {\n",
              "      background-color: #434B5C;\n",
              "      box-shadow: 0px 1px 3px 1px rgba(0, 0, 0, 0.15);\n",
              "      filter: drop-shadow(0px 1px 2px rgba(0, 0, 0, 0.3));\n",
              "      fill: #FFFFFF;\n",
              "    }\n",
              "  </style>\n",
              "\n",
              "      <script>\n",
              "        const buttonEl =\n",
              "          document.querySelector('#df-c13eec3b-66e7-4250-addd-edac4c6d67af button.colab-df-convert');\n",
              "        buttonEl.style.display =\n",
              "          google.colab.kernel.accessAllowed ? 'block' : 'none';\n",
              "\n",
              "        async function convertToInteractive(key) {\n",
              "          const element = document.querySelector('#df-c13eec3b-66e7-4250-addd-edac4c6d67af');\n",
              "          const dataTable =\n",
              "            await google.colab.kernel.invokeFunction('convertToInteractive',\n",
              "                                                     [key], {});\n",
              "          if (!dataTable) return;\n",
              "\n",
              "          const docLinkHtml = 'Like what you see? Visit the ' +\n",
              "            '<a target=\"_blank\" href=https://colab.research.google.com/notebooks/data_table.ipynb>data table notebook</a>'\n",
              "            + ' to learn more about interactive tables.';\n",
              "          element.innerHTML = '';\n",
              "          dataTable['output_type'] = 'display_data';\n",
              "          await google.colab.output.renderOutput(dataTable, element);\n",
              "          const docLink = document.createElement('div');\n",
              "          docLink.innerHTML = docLinkHtml;\n",
              "          element.appendChild(docLink);\n",
              "        }\n",
              "      </script>\n",
              "    </div>\n",
              "  </div>\n",
              "  "
            ]
          },
          "metadata": {},
          "execution_count": 35
        }
      ]
    },
    {
      "cell_type": "code",
      "execution_count": null,
      "metadata": {
        "id": "_wb_0R7Ax1FO"
      },
      "outputs": [],
      "source": [
        "Brasil = df[df['Country']== 'Brazil']"
      ]
    },
    {
      "cell_type": "code",
      "execution_count": null,
      "metadata": {
        "colab": {
          "base_uri": "https://localhost:8080/"
        },
        "id": "4Diqu33S3Uin",
        "outputId": "25222ab8-0cc4-4dac-d46d-e631c7f759e6"
      },
      "outputs": [
        {
          "output_type": "execute_result",
          "data": {
            "text/plain": [
              "Company             0\n",
              "Valuation ($B)      0\n",
              "Date Joined         0\n",
              "Country             0\n",
              "City                0\n",
              "Industry            0\n",
              "Select Investors    0\n",
              "dtype: int64"
            ]
          },
          "metadata": {},
          "execution_count": 22
        }
      ],
      "source": [
        "Brasil.isnull().sum()"
      ]
    },
    {
      "cell_type": "code",
      "execution_count": null,
      "metadata": {
        "colab": {
          "base_uri": "https://localhost:8080/",
          "height": 270
        },
        "id": "b85rUUKZzbTW",
        "outputId": "22a827f7-a8aa-486c-fdd2-dca7965e4891"
      },
      "outputs": [
        {
          "output_type": "display_data",
          "data": {
            "text/plain": [
              "<Figure size 432x288 with 1 Axes>"
            ],
            "image/png": "[encoded data removed]"
          },
          "metadata": {
            "needs_background": "light"
          }
        }
      ],
      "source": [
        "Brasil['City'].value_counts().plot.bar();"
      ]
    },
    {
      "cell_type": "code",
      "execution_count": null,
      "metadata": {
        "colab": {
          "base_uri": "https://localhost:8080/",
          "height": 1000
        },
        "id": "mEsW6WjU8-ey",
        "outputId": "7e6dd931-d5d3-411e-84f3-0bdef5bccec1"
      },
      "outputs": [
        {
          "output_type": "execute_result",
          "data": {
            "text/plain": [
              "              Company Valuation ($B) Date Joined Country       City  \\\n",
              "8              Nubank            $30    3/1/2018  Brazil  Sao Paulo   \n",
              "111       QuintoAndar           $5.1    9/9/2019  Brazil   Campinas   \n",
              "112           C6 Bank          $5.05   12/2/2020  Brazil  Sao Paulo   \n",
              "223         Nuvemshop           $3.1   8/17/2021  Brazil  Sao Paulo   \n",
              "233  Wildlife Studios             $3   12/5/2019  Brazil  Sao Paulo   \n",
              "264              Loft           $2.9    1/3/2020  Brazil  Sao Paulo   \n",
              "338                 1          $2.15    9/8/2021  Brazil  Sao Paulo   \n",
              "385             Loggi             $2    6/5/2019  Brazil  Sao Paulo   \n",
              "430          Creditas          $1.75  12/18/2020  Brazil  Sao Paulo   \n",
              "744            Movile             $1   7/12/2018  Brazil  Sao Paulo   \n",
              "758             iFood             $1  11/13/2018  Brazil     Osasco   \n",
              "776             EBANX             $1  10/16/2019  Brazil   Curitiba   \n",
              "798    MadeiraMadeira             $1    1/7/2021  Brazil     Parana   \n",
              "873             Unico             $1    8/3/2021  Brazil  Sao Paulo   \n",
              "908            CargoX             $1  10/21/2021  Brazil  Sao Paulo   \n",
              "\n",
              "                                Industry  \\\n",
              "8                                Fintech   \n",
              "111      E-commerce & direct-to-consumer   \n",
              "112                              Fintech   \n",
              "223      E-commerce & direct-to-consumer   \n",
              "233                                Other   \n",
              "264      E-commerce & direct-to-consumer   \n",
              "338                              Fintech   \n",
              "385  Supply chain, logistics, & delivery   \n",
              "430                              Fintech   \n",
              "744          Mobile & telecommunications   \n",
              "758  Supply chain, logistics, & delivery   \n",
              "776                              Fintech   \n",
              "798      E-commerce & direct-to-consumer   \n",
              "873              Artificial intelligence   \n",
              "908  Supply chain, logistics, & delivery   \n",
              "\n",
              "                                      Select Investors  \n",
              "8    Sequoia Capital, Redpoint e.ventures, Kaszek V...  \n",
              "111  Kaszek Ventures, General Atlantic, SoftBank Group  \n",
              "112                                      Credit Suisse  \n",
              "223          Kaszek Ventures, Qualcomm Ventures, Accel  \n",
              "233               Benchmark, Bessemer Venture Partners  \n",
              "264     Monashees+, Andreessen Horowitz, QED Investors  \n",
              "338  Plug and Play Ventures, Valor Capital Group, D...  \n",
              "385      Qualcomm Ventures, SoftBank Group. Monashees+  \n",
              "430  Kaszek Ventures, Amadeus Capital Partners, Quo...  \n",
              "744  Innova Capital - FIP, 3G Capital Management, P...  \n",
              "758                          Movile, Just Eat, Naspers  \n",
              "776                              FTV Capital, Endeavor  \n",
              "798  Flybridge Capital Partners, SoftBank Group, Mo...  \n",
              "873  Big Bets, General Atlantic, SOFTBANK Latin Ame...  \n",
              "908     Valor Capital Group, Lightrock, Softbank Group  "
            ],
            "text/html": [
              "\n",
              "  <div id=\"df-879a6bf7-ed23-4cf4-bf4a-68bea11c3020\">\n",
              "    <div class=\"colab-df-container\">\n",
              "      <div>\n",
              "<style scoped>\n",
              "    .dataframe tbody tr th:only-of-type {\n",
              "        vertical-align: middle;\n",
              "    }\n",
              "\n",
              "    .dataframe tbody tr th {\n",
              "        vertical-align: top;\n",
              "    }\n",
              "\n",
              "    .dataframe thead th {\n",
              "        text-align: right;\n",
              "    }\n",
              "</style>\n",
              "<table border=\"1\" class=\"dataframe\">\n",
              "  <thead>\n",
              "    <tr style=\"text-align: right;\">\n",
              "      <th></th>\n",
              "      <th>Company</th>\n",
              "      <th>Valuation ($B)</th>\n",
              "      <th>Date Joined</th>\n",
              "      <th>Country</th>\n",
              "      <th>City</th>\n",
              "      <th>Industry</th>\n",
              "      <th>Select Investors</th>\n",
              "    </tr>\n",
              "  </thead>\n",
              "  <tbody>\n",
              "    <tr>\n",
              "      <th>8</th>\n",
              "      <td>Nubank</td>\n",
              "      <td>$30</td>\n",
              "      <td>3/1/2018</td>\n",
              "      <td>Brazil</td>\n",
              "      <td>Sao Paulo</td>\n",
              "      <td>Fintech</td>\n",
              "      <td>Sequoia Capital, Redpoint e.ventures, Kaszek V...</td>\n",
              "    </tr>\n",
              "    <tr>\n",
              "      <th>111</th>\n",
              "      <td>QuintoAndar</td>\n",
              "      <td>$5.1</td>\n",
              "      <td>9/9/2019</td>\n",
              "      <td>Brazil</td>\n",
              "      <td>Campinas</td>\n",
              "      <td>E-commerce &amp; direct-to-consumer</td>\n",
              "      <td>Kaszek Ventures, General Atlantic, SoftBank Group</td>\n",
              "    </tr>\n",
              "    <tr>\n",
              "      <th>112</th>\n",
              "      <td>C6 Bank</td>\n",
              "      <td>$5.05</td>\n",
              "      <td>12/2/2020</td>\n",
              "      <td>Brazil</td>\n",
              "      <td>Sao Paulo</td>\n",
              "      <td>Fintech</td>\n",
              "      <td>Credit Suisse</td>\n",
              "    </tr>\n",
              "    <tr>\n",
              "      <th>223</th>\n",
              "      <td>Nuvemshop</td>\n",
              "      <td>$3.1</td>\n",
              "      <td>8/17/2021</td>\n",
              "      <td>Brazil</td>\n",
              "      <td>Sao Paulo</td>\n",
              "      <td>E-commerce &amp; direct-to-consumer</td>\n",
              "      <td>Kaszek Ventures, Qualcomm Ventures, Accel</td>\n",
              "    </tr>\n",
              "    <tr>\n",
              "      <th>233</th>\n",
              "      <td>Wildlife Studios</td>\n",
              "      <td>$3</td>\n",
              "      <td>12/5/2019</td>\n",
              "      <td>Brazil</td>\n",
              "      <td>Sao Paulo</td>\n",
              "      <td>Other</td>\n",
              "      <td>Benchmark, Bessemer Venture Partners</td>\n",
              "    </tr>\n",
              "    <tr>\n",
              "      <th>264</th>\n",
              "      <td>Loft</td>\n",
              "      <td>$2.9</td>\n",
              "      <td>1/3/2020</td>\n",
              "      <td>Brazil</td>\n",
              "      <td>Sao Paulo</td>\n",
              "      <td>E-commerce &amp; direct-to-consumer</td>\n",
              "      <td>Monashees+, Andreessen Horowitz, QED Investors</td>\n",
              "    </tr>\n",
              "    <tr>\n",
              "      <th>338</th>\n",
              "      <td>1</td>\n",
              "      <td>$2.15</td>\n",
              "      <td>9/8/2021</td>\n",
              "      <td>Brazil</td>\n",
              "      <td>Sao Paulo</td>\n",
              "      <td>Fintech</td>\n",
              "      <td>Plug and Play Ventures, Valor Capital Group, D...</td>\n",
              "    </tr>\n",
              "    <tr>\n",
              "      <th>385</th>\n",
              "      <td>Loggi</td>\n",
              "      <td>$2</td>\n",
              "      <td>6/5/2019</td>\n",
              "      <td>Brazil</td>\n",
              "      <td>Sao Paulo</td>\n",
              "      <td>Supply chain, logistics, &amp; delivery</td>\n",
              "      <td>Qualcomm Ventures, SoftBank Group. Monashees+</td>\n",
              "    </tr>\n",
              "    <tr>\n",
              "      <th>430</th>\n",
              "      <td>Creditas</td>\n",
              "      <td>$1.75</td>\n",
              "      <td>12/18/2020</td>\n",
              "      <td>Brazil</td>\n",
              "      <td>Sao Paulo</td>\n",
              "      <td>Fintech</td>\n",
              "      <td>Kaszek Ventures, Amadeus Capital Partners, Quo...</td>\n",
              "    </tr>\n",
              "    <tr>\n",
              "      <th>744</th>\n",
              "      <td>Movile</td>\n",
              "      <td>$1</td>\n",
              "      <td>7/12/2018</td>\n",
              "      <td>Brazil</td>\n",
              "      <td>Sao Paulo</td>\n",
              "      <td>Mobile &amp; telecommunications</td>\n",
              "      <td>Innova Capital - FIP, 3G Capital Management, P...</td>\n",
              "    </tr>\n",
              "    <tr>\n",
              "      <th>758</th>\n",
              "      <td>iFood</td>\n",
              "      <td>$1</td>\n",
              "      <td>11/13/2018</td>\n",
              "      <td>Brazil</td>\n",
              "      <td>Osasco</td>\n",
              "      <td>Supply chain, logistics, &amp; delivery</td>\n",
              "      <td>Movile, Just Eat, Naspers</td>\n",
              "    </tr>\n",
              "    <tr>\n",
              "      <th>776</th>\n",
              "      <td>EBANX</td>\n",
              "      <td>$1</td>\n",
              "      <td>10/16/2019</td>\n",
              "      <td>Brazil</td>\n",
              "      <td>Curitiba</td>\n",
              "      <td>Fintech</td>\n",
              "      <td>FTV Capital, Endeavor</td>\n",
              "    </tr>\n",
              "    <tr>\n",
              "      <th>798</th>\n",
              "      <td>MadeiraMadeira</td>\n",
              "      <td>$1</td>\n",
              "      <td>1/7/2021</td>\n",
              "      <td>Brazil</td>\n",
              "      <td>Parana</td>\n",
              "      <td>E-commerce &amp; direct-to-consumer</td>\n",
              "      <td>Flybridge Capital Partners, SoftBank Group, Mo...</td>\n",
              "    </tr>\n",
              "    <tr>\n",
              "      <th>873</th>\n",
              "      <td>Unico</td>\n",
              "      <td>$1</td>\n",
              "      <td>8/3/2021</td>\n",
              "      <td>Brazil</td>\n",
              "      <td>Sao Paulo</td>\n",
              "      <td>Artificial intelligence</td>\n",
              "      <td>Big Bets, General Atlantic, SOFTBANK Latin Ame...</td>\n",
              "    </tr>\n",
              "    <tr>\n",
              "      <th>908</th>\n",
              "      <td>CargoX</td>\n",
              "      <td>$1</td>\n",
              "      <td>10/21/2021</td>\n",
              "      <td>Brazil</td>\n",
              "      <td>Sao Paulo</td>\n",
              "      <td>Supply chain, logistics, &amp; delivery</td>\n",
              "      <td>Valor Capital Group, Lightrock, Softbank Group</td>\n",
              "    </tr>\n",
              "  </tbody>\n",
              "</table>\n",
              "</div>\n",
              "      <button class=\"colab-df-convert\" onclick=\"convertToInteractive('df-879a6bf7-ed23-4cf4-bf4a-68bea11c3020')\"\n",
              "              title=\"Convert this dataframe to an interactive table.\"\n",
              "              style=\"display:none;\">\n",
              "        \n",
              "  <svg xmlns=\"http://www.w3.org/2000/svg\" height=\"24px\"viewBox=\"0 0 24 24\"\n",
              "       width=\"24px\">\n",
              "    <path d=\"M0 0h24v24H0V0z\" fill=\"none\"/>\n",
              "    <path d=\"M18.56 5.44l.94 2.06.94-2.06 2.06-.94-2.06-.94-.94-2.06-.94 2.06-2.06.94zm-11 1L8.5 8.5l.94-2.06 2.06-.94-2.06-.94L8.5 2.5l-.94 2.06-2.06.94zm10 10l.94 2.06.94-2.06 2.06-.94-2.06-.94-.94-2.06-.94 2.06-2.06.94z\"/><path d=\"M17.41 7.96l-1.37-1.37c-.4-.4-.92-.59-1.43-.59-.52 0-1.04.2-1.43.59L10.3 9.45l-7.72 7.72c-.78.78-.78 2.05 0 2.83L4 21.41c.39.39.9.59 1.41.59.51 0 1.02-.2 1.41-.59l7.78-7.78 2.81-2.81c.8-.78.8-2.07 0-2.86zM5.41 20L4 18.59l7.72-7.72 1.47 1.35L5.41 20z\"/>\n",
              "  </svg>\n",
              "      </button>\n",
              "      \n",
              "  <style>\n",
              "    .colab-df-container {\n",
              "      display:flex;\n",
              "      flex-wrap:wrap;\n",
              "      gap: 12px;\n",
              "    }\n",
              "\n",
              "    .colab-df-convert {\n",
              "      background-color: #E8F0FE;\n",
              "      border: none;\n",
              "      border-radius: 50%;\n",
              "      cursor: pointer;\n",
              "      display: none;\n",
              "      fill: #1967D2;\n",
              "      height: 32px;\n",
              "      padding: 0 0 0 0;\n",
              "      width: 32px;\n",
              "    }\n",
              "\n",
              "    .colab-df-convert:hover {\n",
              "      background-color: #E2EBFA;\n",
              "      box-shadow: 0px 1px 2px rgba(60, 64, 67, 0.3), 0px 1px 3px 1px rgba(60, 64, 67, 0.15);\n",
              "      fill: #174EA6;\n",
              "    }\n",
              "\n",
              "    [theme=dark] .colab-df-convert {\n",
              "      background-color: #3B4455;\n",
              "      fill: #D2E3FC;\n",
              "    }\n",
              "\n",
              "    [theme=dark] .colab-df-convert:hover {\n",
              "      background-color: #434B5C;\n",
              "      box-shadow: 0px 1px 3px 1px rgba(0, 0, 0, 0.15);\n",
              "      filter: drop-shadow(0px 1px 2px rgba(0, 0, 0, 0.3));\n",
              "      fill: #FFFFFF;\n",
              "    }\n",
              "  </style>\n",
              "\n",
              "      <script>\n",
              "        const buttonEl =\n",
              "          document.querySelector('#df-879a6bf7-ed23-4cf4-bf4a-68bea11c3020 button.colab-df-convert');\n",
              "        buttonEl.style.display =\n",
              "          google.colab.kernel.accessAllowed ? 'block' : 'none';\n",
              "\n",
              "        async function convertToInteractive(key) {\n",
              "          const element = document.querySelector('#df-879a6bf7-ed23-4cf4-bf4a-68bea11c3020');\n",
              "          const dataTable =\n",
              "            await google.colab.kernel.invokeFunction('convertToInteractive',\n",
              "                                                     [key], {});\n",
              "          if (!dataTable) return;\n",
              "\n",
              "          const docLinkHtml = 'Like what you see? Visit the ' +\n",
              "            '<a target=\"_blank\" href=https://colab.research.google.com/notebooks/data_table.ipynb>data table notebook</a>'\n",
              "            + ' to learn more about interactive tables.';\n",
              "          element.innerHTML = '';\n",
              "          dataTable['output_type'] = 'display_data';\n",
              "          await google.colab.output.renderOutput(dataTable, element);\n",
              "          const docLink = document.createElement('div');\n",
              "          docLink.innerHTML = docLinkHtml;\n",
              "          element.appendChild(docLink);\n",
              "        }\n",
              "      </script>\n",
              "    </div>\n",
              "  </div>\n",
              "  "
            ]
          },
          "metadata": {},
          "execution_count": 27
        }
      ],
      "source": [
        "Brasil"
      ]
    },
    {
      "cell_type": "code",
      "execution_count": null,
      "metadata": {
        "id": "61q2Lzy3_pig"
      },
      "outputs": [],
      "source": [
        "\n",
        "\n",
        "Data = Brasil[\"Date Joined\"].str[-4:]\n",
        "\n",
        "Data = pd.to_numeric(Data)"
      ]
    },
    {
      "cell_type": "code",
      "execution_count": null,
      "metadata": {
        "colab": {
          "base_uri": "https://localhost:8080/",
          "height": 520
        },
        "id": "UNGEqX5vPRbp",
        "outputId": "67cc0690-5dd9-412c-e8a4-66174fed6a6c"
      },
      "outputs": [
        {
          "output_type": "execute_result",
          "data": {
            "text/plain": [
              "     Date Joined\n",
              "8           2018\n",
              "111         2019\n",
              "112         2020\n",
              "223         2021\n",
              "233         2019\n",
              "264         2020\n",
              "338         2021\n",
              "385         2019\n",
              "430         2020\n",
              "744         2018\n",
              "758         2018\n",
              "776         2019\n",
              "798         2021\n",
              "873         2021\n",
              "908         2021"
            ],
            "text/html": [
              "\n",
              "  <div id=\"df-564b0ca3-df9f-4c52-b732-e557c2814bff\">\n",
              "    <div class=\"colab-df-container\">\n",
              "      <div>\n",
              "<style scoped>\n",
              "    .dataframe tbody tr th:only-of-type {\n",
              "        vertical-align: middle;\n",
              "    }\n",
              "\n",
              "    .dataframe tbody tr th {\n",
              "        vertical-align: top;\n",
              "    }\n",
              "\n",
              "    .dataframe thead th {\n",
              "        text-align: right;\n",
              "    }\n",
              "</style>\n",
              "<table border=\"1\" class=\"dataframe\">\n",
              "  <thead>\n",
              "    <tr style=\"text-align: right;\">\n",
              "      <th></th>\n",
              "      <th>Date Joined</th>\n",
              "    </tr>\n",
              "  </thead>\n",
              "  <tbody>\n",
              "    <tr>\n",
              "      <th>8</th>\n",
              "      <td>2018</td>\n",
              "    </tr>\n",
              "    <tr>\n",
              "      <th>111</th>\n",
              "      <td>2019</td>\n",
              "    </tr>\n",
              "    <tr>\n",
              "      <th>112</th>\n",
              "      <td>2020</td>\n",
              "    </tr>\n",
              "    <tr>\n",
              "      <th>223</th>\n",
              "      <td>2021</td>\n",
              "    </tr>\n",
              "    <tr>\n",
              "      <th>233</th>\n",
              "      <td>2019</td>\n",
              "    </tr>\n",
              "    <tr>\n",
              "      <th>264</th>\n",
              "      <td>2020</td>\n",
              "    </tr>\n",
              "    <tr>\n",
              "      <th>338</th>\n",
              "      <td>2021</td>\n",
              "    </tr>\n",
              "    <tr>\n",
              "      <th>385</th>\n",
              "      <td>2019</td>\n",
              "    </tr>\n",
              "    <tr>\n",
              "      <th>430</th>\n",
              "      <td>2020</td>\n",
              "    </tr>\n",
              "    <tr>\n",
              "      <th>744</th>\n",
              "      <td>2018</td>\n",
              "    </tr>\n",
              "    <tr>\n",
              "      <th>758</th>\n",
              "      <td>2018</td>\n",
              "    </tr>\n",
              "    <tr>\n",
              "      <th>776</th>\n",
              "      <td>2019</td>\n",
              "    </tr>\n",
              "    <tr>\n",
              "      <th>798</th>\n",
              "      <td>2021</td>\n",
              "    </tr>\n",
              "    <tr>\n",
              "      <th>873</th>\n",
              "      <td>2021</td>\n",
              "    </tr>\n",
              "    <tr>\n",
              "      <th>908</th>\n",
              "      <td>2021</td>\n",
              "    </tr>\n",
              "  </tbody>\n",
              "</table>\n",
              "</div>\n",
              "      <button class=\"colab-df-convert\" onclick=\"convertToInteractive('df-564b0ca3-df9f-4c52-b732-e557c2814bff')\"\n",
              "              title=\"Convert this dataframe to an interactive table.\"\n",
              "              style=\"display:none;\">\n",
              "        \n",
              "  <svg xmlns=\"http://www.w3.org/2000/svg\" height=\"24px\"viewBox=\"0 0 24 24\"\n",
              "       width=\"24px\">\n",
              "    <path d=\"M0 0h24v24H0V0z\" fill=\"none\"/>\n",
              "    <path d=\"M18.56 5.44l.94 2.06.94-2.06 2.06-.94-2.06-.94-.94-2.06-.94 2.06-2.06.94zm-11 1L8.5 8.5l.94-2.06 2.06-.94-2.06-.94L8.5 2.5l-.94 2.06-2.06.94zm10 10l.94 2.06.94-2.06 2.06-.94-2.06-.94-.94-2.06-.94 2.06-2.06.94z\"/><path d=\"M17.41 7.96l-1.37-1.37c-.4-.4-.92-.59-1.43-.59-.52 0-1.04.2-1.43.59L10.3 9.45l-7.72 7.72c-.78.78-.78 2.05 0 2.83L4 21.41c.39.39.9.59 1.41.59.51 0 1.02-.2 1.41-.59l7.78-7.78 2.81-2.81c.8-.78.8-2.07 0-2.86zM5.41 20L4 18.59l7.72-7.72 1.47 1.35L5.41 20z\"/>\n",
              "  </svg>\n",
              "      </button>\n",
              "      \n",
              "  <style>\n",
              "    .colab-df-container {\n",
              "      display:flex;\n",
              "      flex-wrap:wrap;\n",
              "      gap: 12px;\n",
              "    }\n",
              "\n",
              "    .colab-df-convert {\n",
              "      background-color: #E8F0FE;\n",
              "      border: none;\n",
              "      border-radius: 50%;\n",
              "      cursor: pointer;\n",
              "      display: none;\n",
              "      fill: #1967D2;\n",
              "      height: 32px;\n",
              "      padding: 0 0 0 0;\n",
              "      width: 32px;\n",
              "    }\n",
              "\n",
              "    .colab-df-convert:hover {\n",
              "      background-color: #E2EBFA;\n",
              "      box-shadow: 0px 1px 2px rgba(60, 64, 67, 0.3), 0px 1px 3px 1px rgba(60, 64, 67, 0.15);\n",
              "      fill: #174EA6;\n",
              "    }\n",
              "\n",
              "    [theme=dark] .colab-df-convert {\n",
              "      background-color: #3B4455;\n",
              "      fill: #D2E3FC;\n",
              "    }\n",
              "\n",
              "    [theme=dark] .colab-df-convert:hover {\n",
              "      background-color: #434B5C;\n",
              "      box-shadow: 0px 1px 3px 1px rgba(0, 0, 0, 0.15);\n",
              "      filter: drop-shadow(0px 1px 2px rgba(0, 0, 0, 0.3));\n",
              "      fill: #FFFFFF;\n",
              "    }\n",
              "  </style>\n",
              "\n",
              "      <script>\n",
              "        const buttonEl =\n",
              "          document.querySelector('#df-564b0ca3-df9f-4c52-b732-e557c2814bff button.colab-df-convert');\n",
              "        buttonEl.style.display =\n",
              "          google.colab.kernel.accessAllowed ? 'block' : 'none';\n",
              "\n",
              "        async function convertToInteractive(key) {\n",
              "          const element = document.querySelector('#df-564b0ca3-df9f-4c52-b732-e557c2814bff');\n",
              "          const dataTable =\n",
              "            await google.colab.kernel.invokeFunction('convertToInteractive',\n",
              "                                                     [key], {});\n",
              "          if (!dataTable) return;\n",
              "\n",
              "          const docLinkHtml = 'Like what you see? Visit the ' +\n",
              "            '<a target=\"_blank\" href=https://colab.research.google.com/notebooks/data_table.ipynb>data table notebook</a>'\n",
              "            + ' to learn more about interactive tables.';\n",
              "          element.innerHTML = '';\n",
              "          dataTable['output_type'] = 'display_data';\n",
              "          await google.colab.output.renderOutput(dataTable, element);\n",
              "          const docLink = document.createElement('div');\n",
              "          docLink.innerHTML = docLinkHtml;\n",
              "          element.appendChild(docLink);\n",
              "        }\n",
              "      </script>\n",
              "    </div>\n",
              "  </div>\n",
              "  "
            ]
          },
          "metadata": {},
          "execution_count": 29
        }
      ],
      "source": [
        "Data= pd.DataFrame(Data)\n",
        "Data"
      ]
    },
    {
      "cell_type": "code",
      "source": [
        "Data=Data.reset_index(drop=True)\n",
        "Data.value_counts().plot.bar();"
      ],
      "metadata": {
        "colab": {
          "base_uri": "https://localhost:8080/",
          "height": 275
        },
        "id": "Z3M9XLmAyh4-",
        "outputId": "bc4ab974-bbca-476e-aae7-2d2ece87015f"
      },
      "execution_count": null,
      "outputs": [
        {
          "output_type": "display_data",
          "data": {
            "text/plain": [
              "<Figure size 432x288 with 1 Axes>"
            ],
            "image/png": "[encoded data removed]"
          },
          "metadata": {
            "needs_background": "light"
          }
        }
      ]
    },
    {
      "cell_type": "code",
      "source": [
        "Data.value_counts()"
      ],
      "metadata": {
        "colab": {
          "base_uri": "https://localhost:8080/"
        },
        "id": "Dlp5lS0v191A",
        "outputId": "279c41fd-caed-4aae-fbf4-0bf57fd0dd8b"
      },
      "execution_count": null,
      "outputs": [
        {
          "output_type": "execute_result",
          "data": {
            "text/plain": [
              "Date Joined\n",
              "2021           5\n",
              "2019           4\n",
              "2018           3\n",
              "2020           3\n",
              "dtype: int64"
            ]
          },
          "metadata": {},
          "execution_count": 31
        }
      ]
    },
    {
      "cell_type": "code",
      "source": [
        "Brasil.isnull().sum()"
      ],
      "metadata": {
        "colab": {
          "base_uri": "https://localhost:8080/"
        },
        "id": "awA5o9pT9CEC",
        "outputId": "4e040dbd-4d9a-495c-a4cc-ca854f54f850"
      },
      "execution_count": null,
      "outputs": [
        {
          "output_type": "execute_result",
          "data": {
            "text/plain": [
              "Company             0\n",
              "Valuation ($B)      0\n",
              "Date Joined         0\n",
              "Country             0\n",
              "City                0\n",
              "Industry            0\n",
              "Select Investors    0\n",
              "dtype: int64"
            ]
          },
          "metadata": {},
          "execution_count": 32
        }
      ]
    }
  ],
  "metadata": {
    "colab": {
      "name": "Untitled2.ipynb",
      "provenance": [],
      "authorship_tag": "ABX9TyMtEXsHKEkiY38sSlNOJpmt",
      "include_colab_link": true
    },
    "kernelspec": {
      "display_name": "Python 3",
      "name": "python3"
    },
    "language_info": {
      "name": "python"
    }
  },
  "nbformat": 4,
  "nbformat_minor": 0
}